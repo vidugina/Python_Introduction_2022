{
 "cells": [
  {
   "cell_type": "markdown",
   "id": "a3f58ea9",
   "metadata": {},
   "source": [
    "# Цель работы:\n",
    "Разложить картинку по svd для каждого канала RGB в отдельности и потом собрать цвета обратно вместе, получив цветные картинки для разных количеств сингулярных значений."
   ]
  },
  {
   "cell_type": "markdown",
   "id": "0f4349bf",
   "metadata": {},
   "source": [
    "##  1) Подготовка\n",
    "Для выполнения работы надо импонтировать Image из PIL, чтобы загрузить фото (функция .open()) и после вновь перервести фотографии из матрицы (функция .fromarray()) и сохранить их (функция .save()). И импонтировать numpy, для работы с матрицами.\n",
    "Загружаем картинку, добавленную в папку заранее (папка с кодом).\n",
    "В дальнейшем также понадобятся размеры картинки, поэтому сохраняем их в виде переменных w, h."
   ]
  },
  {
   "cell_type": "code",
   "execution_count": 19,
   "id": "bc5dedee",
   "metadata": {},
   "outputs": [],
   "source": [
    "from PIL import Image\n",
    "import numpy as np\n",
    "img = Image.open(\"pavlin.jpg\")\n",
    "w = img.size[0]\n",
    "h = img.size[1]"
   ]
  },
  {
   "cell_type": "markdown",
   "id": "faa49754",
   "metadata": {},
   "source": [
    "## 2) SVD разложение для каждого цвета\n",
    "Переводим картинку в матрицу (x). Используя срезы, выделяем матрицы отвечающих за все три цвета (красный - r, зелёный - g, голубой - b).\n",
    "Полученные матрицы раскладываем используя функцию numpy - linalg.svd(). Full_matrices = False - чтобы ненужная часть матрицы не учитывалась."
   ]
  },
  {
   "cell_type": "code",
   "execution_count": 24,
   "id": "40f20283",
   "metadata": {},
   "outputs": [],
   "source": [
    "x = np.array(img, dtype = np.float32)\n",
    "\n",
    "r, g, b = x[:,:,0], x[:,:,1], x[:,:,2]\n",
    "\n",
    "U_r, S_r, V_r = np.linalg.svd(r,full_matrices = False) #красный\n",
    "U_g, S_g, V_g = np.linalg.svd(g,full_matrices = False) #зелённый\n",
    "U_b, S_b, V_b = np.linalg.svd(b,full_matrices = False) #голубой\n"
   ]
  },
  {
   "cell_type": "markdown",
   "id": "692f7627",
   "metadata": {},
   "source": [
    "## 3) Собираем и сохраняем картинки, используя разные значения\n",
    "Чтобы наглядно увидеть изменения картинки, используем цикл for от 1 до 100 с шагом 5. \n",
    "Каждый цикл для каждого цвета:\n",
    " 1. получаем матрицу с помощью умножения соответсвующих матриц U, S, V по нужным строкам и столбцам.\n",
    " 2. для борьбы с переполнением (возникнет при смене типа float32 на uint8), меняем отрицательные значения на 0, а превышающие 255 на 255.\n",
    " 3. добавляем третье измерение используя функцию reshape и сохранённые ранее значения ширины и длины (w,h)\n",
    "В самом конце, цикл с помощью функции concatenate по оси 2 чтобы получить матрицу похожую на матрицу исходного изображения. Последней строкой переводим получившуюся матрицу в цветную картинку и сохраняем в формате png."
   ]
  },
  {
   "cell_type": "code",
   "execution_count": 22,
   "id": "dc6db5b7",
   "metadata": {},
   "outputs": [],
   "source": [
    "for i in range (1,100,5):\n",
    "    red = U_r[:,:i].dot(np.diag(S_r[:i])).dot(V_r[:i,:])\n",
    "    green = U_g[:,:i].dot(np.diag(S_g[:i])).dot(V_g[:i,:])\n",
    "    blue = U_b[:,:i].dot(np.diag(S_b[:i])).dot(V_b[:i,:])\n",
    "    \n",
    "    red[red < 0] = 0\n",
    "    red[red > 255] = 255\n",
    "    green[green < 0] = 0\n",
    "    green[green > 255] = 255\n",
    "    blue[blue < 0] = 0\n",
    "    blue[blue > 255] = 255\n",
    "    \n",
    "    red = red.reshape(h, w, 1)\n",
    "    green = green.reshape(h, w, 1)\n",
    "    blue = blue.reshape(h, w, 1)\n",
    "    \n",
    "\n",
    "    Y_r = np.concatenate((np.concatenate((red, green), axis = 2), blue), axis = 2)            \n",
    "    Image.fromarray(np.asarray(Y_r,dtype = np.uint8)).save(f'result{i}.png')"
   ]
  }
 ],
 "metadata": {
  "kernelspec": {
   "display_name": "Python 3 (ipykernel)",
   "language": "python",
   "name": "python3"
  },
  "language_info": {
   "codemirror_mode": {
    "name": "ipython",
    "version": 3
   },
   "file_extension": ".py",
   "mimetype": "text/x-python",
   "name": "python",
   "nbconvert_exporter": "python",
   "pygments_lexer": "ipython3",
   "version": "3.9.12"
  }
 },
 "nbformat": 4,
 "nbformat_minor": 5
}
